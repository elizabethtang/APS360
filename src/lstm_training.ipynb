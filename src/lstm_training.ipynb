{
 "cells": [
  {
   "cell_type": "code",
   "execution_count": null,
   "metadata": {
    "ExecuteTime": {
     "end_time": "2023-07-09T17:34:33.062198500Z",
     "start_time": "2023-07-09T17:34:30.493669200Z"
    },
    "collapsed": true
   },
   "outputs": [],
   "source": [
    "import torch\n",
    "import matplotlib.pyplot as plt\n",
    "from torch.utils.data import DataLoader\n",
    "from lstm import lstm_model, train_lstm\n",
    "from data_processing import get_and_save_data, get_train_test_data, convert_to_1d\n",
    "from globals import DATA\n",
    "from training_functions import *\n",
    "\n"
   ]
  },
  {
   "cell_type": "code",
   "execution_count": null,
   "metadata": {
    "ExecuteTime": {
     "end_time": "2023-07-09T17:34:36.606603100Z",
     "start_time": "2023-07-09T17:34:33.066184700Z"
    },
    "collapsed": false
   },
   "outputs": [],
   "source": [
    "get_and_save_data(dir_path=DATA)\n",
    "\n",
    "model, train_loader, encoder_input_train, decoder_output_train, encoder_input_test, decoder_output_test = get_data_and_model(input_dim=2, hidden_dim=128, layer_dim=3, output_dim=1, epochs = 5)"
   ]
  },
  {
   "cell_type": "code",
   "execution_count": null,
   "metadata": {
    "ExecuteTime": {
     "end_time": "2023-07-09T17:41:38.531203700Z",
     "start_time": "2023-07-09T17:34:36.610592100Z"
    },
    "collapsed": false
   },
   "outputs": [],
   "source": [
    "device = torch.device(\"cuda:0\" if torch.cuda.is_available() else \"cpu\")\n",
    "loss_curve = train_lstm(model, device, train_loader, num_epochs=10, lr = 0.001)"
   ]
  },
  {
   "cell_type": "code",
   "execution_count": null,
   "metadata": {
    "ExecuteTime": {
     "end_time": "2023-07-09T17:41:38.844404200Z",
     "start_time": "2023-07-09T17:41:38.534186300Z"
    },
    "collapsed": false
   },
   "outputs": [],
   "source": [
    "plt.plot(loss_curve)"
   ]
  },
  {
   "cell_type": "code",
   "execution_count": null,
   "metadata": {
    "ExecuteTime": {
     "end_time": "2023-07-09T17:41:40.270390400Z",
     "start_time": "2023-07-09T17:41:38.844404200Z"
    },
    "collapsed": false
   },
   "outputs": [],
   "source": [
    "view_train_test_result(model, encoder_input_train, decoder_output_train, encoder_input_test, decoder_output_test)"
   ]
  }
 ],
 "metadata": {
  "kernelspec": {
   "display_name": "Python 3",
   "language": "python",
   "name": "python3"
  },
  "language_info": {
   "codemirror_mode": {
    "name": "ipython",
    "version": 2
   },
   "file_extension": ".py",
   "mimetype": "text/x-python",
   "name": "python",
   "nbconvert_exporter": "python",
   "pygments_lexer": "ipython2",
   "version": "2.7.6"
  }
 },
 "nbformat": 4,
 "nbformat_minor": 0
}
