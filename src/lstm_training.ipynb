{
 "cells": [
  {
   "cell_type": "code",
   "execution_count": null,
   "metadata": {},
   "outputs": [],
   "source": [
    "import torch\n",
    "import matplotlib.pyplot as plt\n",
    "from torch.utils.data import DataLoader\n",
    "from lstm import lstm_model, train_lstm\n",
    "from data_processing import get_and_save_data, get_train_data, convert_to_1d\n",
    "from globals import DATA"
   ]
  },
  {
   "cell_type": "code",
   "execution_count": null,
   "metadata": {},
   "outputs": [],
   "source": [
    "# If you do not have data saved locally, run this\n",
    "get_and_save_data(dir_path=DATA)"
   ]
  },
  {
   "cell_type": "code",
   "execution_count": null,
   "metadata": {},
   "outputs": [],
   "source": [
    "train_data, encoder_input, decoder_output = get_train_data(dir_path=DATA, batch_size=32)"
   ]
  },
  {
   "cell_type": "code",
   "execution_count": null,
   "metadata": {},
   "outputs": [],
   "source": [
    "input_dim, hidden_dim, layer_dim, output_dim = 2, 64, 3, 1\n",
    "\n",
    "model_untrained = lstm_model(input_dim, hidden_dim, layer_dim, output_dim)   #not trained, for comparison\n",
    "model_trained = lstm_model(input_dim, hidden_dim, layer_dim, output_dim)"
   ]
  },
  {
   "cell_type": "code",
   "execution_count": null,
   "metadata": {},
   "outputs": [],
   "source": [
    "device = torch.device(\"cuda:0\" if torch.cuda.is_available() else \"cpu\")\n",
    "model_trained.to(device)\n",
    "model_untrained.to(device)"
   ]
  },
  {
   "cell_type": "code",
   "execution_count": null,
   "metadata": {},
   "outputs": [],
   "source": [
    "train_loader = DataLoader(train_data, batch_size=128, shuffle=True)\n",
    "loss_curve = train_lstm(model_trained, device, train_loader)"
   ]
  },
  {
   "cell_type": "code",
   "execution_count": null,
   "metadata": {},
   "outputs": [],
   "source": [
    "output_trained = model_trained(torch.from_numpy(encoder_input[0:1280]).to(device).float())\n",
    "output_untrained = model_untrained(torch.from_numpy(encoder_input[0:1280]).to(device).float())\n",
    "\n",
    "plt.plot(output_trained.cpu().detach().numpy()[50,:,0], label='trained')\n",
    "plt.plot(output_untrained.cpu().detach().numpy()[50,:,0], label='untrained')\n",
    "plt.plot(decoder_output[50,:,0], label='ground truth')\n",
    "plt.legend()"
   ]
  },
  {
   "cell_type": "code",
   "execution_count": null,
   "metadata": {},
   "outputs": [],
   "source": [
    "output_trained_1d = convert_to_1d(output_trained.cpu().detach().numpy())"
   ]
  }
 ],
 "metadata": {
  "language_info": {
   "name": "python"
  },
  "orig_nbformat": 4
 },
 "nbformat": 4,
 "nbformat_minor": 2
}
