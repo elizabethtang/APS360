{
 "cells": [
  {
   "cell_type": "code",
   "execution_count": null,
   "metadata": {
    "collapsed": true
   },
   "outputs": [],
   "source": [
    "import torch\n",
    "import matplotlib.pyplot as plt\n",
    "from torch.utils.data import DataLoader\n",
    "from lstm import *\n",
    "\n",
    "from data_processing import get_and_save_data, get_train_test_data, convert_to_1d\n",
    "from globals import DATA\n",
    "from training_functions import *\n",
    "\n",
    "\n"
   ]
  },
  {
   "cell_type": "code",
   "execution_count": null,
   "metadata": {
    "collapsed": false
   },
   "outputs": [],
   "source": [
    "get_and_save_data(dir_path=DATA)\n",
    "\n",
    "model, train_loader, encoder_input_train, decoder_output_train, encoder_input_test, decoder_output_test = get_data_and_model(input_dim=2, hidden_dim=128, layer_dim=3, output_dim=1)"
   ]
  },
  {
   "cell_type": "code",
   "execution_count": null,
   "metadata": {
    "collapsed": false
   },
   "outputs": [],
   "source": [
    "device = torch.device(\"cuda:0\" if torch.cuda.is_available() else \"cpu\")\n",
    "loss_curve, train_loss, test_loss = train_lstm(model, device, train_loader, num_epochs=5, lr = 0.001, encoder_input_test=encoder_input_test, decoder_output_test=decoder_output_test)\n",
    "#, encoder_input_test=encoder_input_test, decoder_output_test=decoder_output_test"
   ]
  },
  {
   "cell_type": "code",
   "execution_count": null,
   "metadata": {
    "collapsed": false
   },
   "outputs": [],
   "source": [
    "view_train_test_result(model, encoder_input_train, decoder_output_train, encoder_input_test, decoder_output_test)"
   ]
  },
  {
   "cell_type": "code",
   "execution_count": null,
   "metadata": {
    "collapsed": false
   },
   "outputs": [],
   "source": [
    "plt.plot(train_loss, label='Train')\n",
    "plt.plot(test_loss, label='Validation')\n",
    "plt.xlabel('step')\n",
    "plt.ylabel('MSE loss')\n",
    "plt.legend()"
   ]
  }
 ],
 "metadata": {
  "kernelspec": {
   "display_name": "Python 3",
   "language": "python",
   "name": "python3"
  },
  "language_info": {
   "codemirror_mode": {
    "name": "ipython",
    "version": 2
   },
   "file_extension": ".py",
   "mimetype": "text/x-python",
   "name": "python",
   "nbconvert_exporter": "python",
   "pygments_lexer": "ipython2",
   "version": "2.7.6"
  }
 },
 "nbformat": 4,
 "nbformat_minor": 0
}
