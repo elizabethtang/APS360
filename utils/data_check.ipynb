{
 "cells": [
  {
   "attachments": {},
   "cell_type": "markdown",
   "metadata": {
    "collapsed": false
   },
   "source": [
    "# Quick Demo of the data"
   ]
  },
  {
   "cell_type": "code",
   "execution_count": null,
   "metadata": {
    "ExecuteTime": {
     "end_time": "2023-06-04T10:42:58.886473Z",
     "start_time": "2023-06-04T10:42:58.864567Z"
    },
    "collapsed": false
   },
   "outputs": [],
   "source": [
    "import numpy as np\n",
    "import pandas as pd\n",
    "import matplotlib.pyplot as plt"
   ]
  },
  {
   "cell_type": "code",
   "execution_count": null,
   "metadata": {
    "ExecuteTime": {
     "end_time": "2023-06-04T12:19:24.582563Z",
     "start_time": "2023-06-04T12:19:24.132346Z"
    },
    "collapsed": false
   },
   "outputs": [],
   "source": [
    "import h5py\n",
    "\n",
    "# Specify the file path of the .mat file\n",
    "file_path = \"../data/Part_1.mat\"\n",
    "\n",
    "# Open the .mat file using h5py.File()\n",
    "with h5py.File(file_path, \"r\") as hdf_file:\n",
    "    # List all the top-level keys (datasets, groups) in the HDF5 file\n",
    "    ref_key = list(hdf_file.keys())[0]\n",
    "    value_key = list(hdf_file.keys())[1]\n",
    "\n",
    "    data = hdf_file[value_key]\n",
    "\n",
    "    example = data[0][0]\n",
    "    obj = hdf_file[example]\n",
    "    ex_ppg = obj[:,0]\n",
    "    ex_ecg = obj[:,2]\n",
    "    ex_abp = obj[:,1]\n",
    "\n",
    "    #figure size\n",
    "    plt.figure(figsize=(20,10))\n",
    "    #make subplot\n",
    "    plt.subplot(3,1,1)\n",
    "    plt.plot(ex_ppg[500:1000])\n",
    "    plt.title('PPG', fontsize=16)\n",
    "    plt.subplot(3,1,2)\n",
    "    plt.plot(ex_ecg[500:1000])\n",
    "    plt.title('ECG', fontsize=16)\n",
    "    plt.subplot(3,1,3)\n",
    "    plt.plot(ex_abp[500:1000])\n",
    "    plt.title('ABP', fontsize=16)"
   ]
  },
  {
   "cell_type": "code",
   "execution_count": null,
   "metadata": {
    "ExecuteTime": {
     "end_time": "2023-06-01T23:12:51.364579Z",
     "start_time": "2023-06-01T23:12:50.996730Z"
    },
    "collapsed": false
   },
   "outputs": [],
   "source": [
    "print('Sample Number: '+ str(data.shape[0]))\n",
    "plt.plot(ex_ppg)"
   ]
  }
 ],
 "metadata": {
  "kernelspec": {
   "display_name": "Python 3",
   "language": "python",
   "name": "python3"
  },
  "language_info": {
   "codemirror_mode": {
    "name": "ipython",
    "version": 3
   },
   "file_extension": ".py",
   "mimetype": "text/x-python",
   "name": "python",
   "nbconvert_exporter": "python",
   "pygments_lexer": "ipython3",
   "version": "3.9.2"
  }
 },
 "nbformat": 4,
 "nbformat_minor": 0
}
